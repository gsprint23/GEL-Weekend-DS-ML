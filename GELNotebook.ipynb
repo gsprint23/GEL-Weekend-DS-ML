{
 "cells": [
  {
   "cell_type": "markdown",
   "metadata": {},
   "source": [
    "<img src=\"https://raw.githubusercontent.com/gsprint23/GEL-Weekend-DS-ML/master/pics/GU_CS.png\" width=\"1000\"/>\n",
    "\n",
    "# 🥳 Gonzaga GEL Weekend 2021 🥳\n",
    "## 😎 Data Science and Machine Learning w/Python 😎\n",
    "### Welcome, I'm glad you are all here!! \n",
    "\n",
    "First, can you please fill out my Google Form here so I know a little bit about you and whether you are a Cat 😸 or Dog 🐶 Person: https://forms.gle/ALkhkYGDBs8H4wVFACat\n",
    "\n",
    "Second, here is my info:\n",
    "* Dr. Gina Sprint, Assistant Professor of [Computer Science](https://www.gonzaga.edu/school-of-engineering-applied-science/degrees-and-programs/computer-science)\n",
    "    * Faculty webpage: https://cs.gonzaga.edu/faculty/sprint/\n",
    "    * Email: sprint@gonzaga.edu\n",
    "    \n",
    "Third, here is the info about this \"sample\" course:\n",
    "* Link to this Jupyter Notebook: https://github.com/gsprint23/GEL-Weekend-DS-ML/blob/master/GELNotebook.ipynb\n",
    "    * A [Jupyter Notebook](https://jupyter.org/) is a development environment that combines narrative with computation to tell a [data science story](https://www.dataquest.io/blog/data-science-portfolio-project/)\n",
    "* Topics related to GU courses:\n",
    "    * [CPSC 222 Introduction to Data Science w/Python](https://github.com/GonzagaCPSC222)\n",
    "    * [CPSC 322: Data Science Algorithms w/Python](https://github.com/GonzagaCPSC322)\n",
    "* Topics we are going to touch on:\n",
    "    1. Data collection\n",
    "    1. Exploratory data analysis\n",
    "    1. Machine learning for prediction"
   ]
  },
  {
   "cell_type": "markdown",
   "metadata": {},
   "source": [
    "## 🤓 1) Data Collection 🤓\n",
    "* Crowd sourced from you via your Google Form responses!!\n",
    "* Demos will be based on current responses plus 27 responses from current GU students in my CPSC 322 course\n",
    "    * How? I wrote code to connect to Google Drive via its \"API\"\n",
    "    * Learn more about APIs [here](https://github.com/GonzagaCPSC222/U7-APIs-NLP)"
   ]
  },
  {
   "cell_type": "code",
   "execution_count": null,
   "metadata": {},
   "outputs": [],
   "source": [
    "import pandas as pd\n",
    "from google_sheet_api import get_spreadsheet_dataframe\n",
    "\n",
    "orig_df = get_spreadsheet_dataframe()\n",
    "n = orig_df.shape[0]\n",
    "print(n, \"responses to the Google Form currently received\\n\")\n",
    "\n",
    "print(\"Preview of the most recent three responses in the data\")\n",
    "for i in range(n - 3, n, 1):\n",
    "    print(\"Response #\" + str(i) + \":\", orig_df.iloc[i].values, \"\\n\")\n",
    "    \n",
    "print(\"Quick stats based on the data\")\n",
    "orig_df.describe()"
   ]
  },
  {
   "cell_type": "markdown",
   "metadata": {},
   "source": [
    "## 🧐 2) Exploratory Data Analysis 🧐\n",
    "A first step when working with new data... explore it!"
   ]
  },
  {
   "cell_type": "markdown",
   "metadata": {},
   "source": [
    "### Explore the Google Form Questions/Responses (Called \"Attributes\")"
   ]
  },
  {
   "cell_type": "code",
   "execution_count": null,
   "metadata": {},
   "outputs": [],
   "source": [
    "print(\"Any missing data?\")\n",
    "for i, col in enumerate(orig_df.columns):\n",
    "    print(\"Attribute #\" + str(i) + \":\", col)\n",
    "    value_counts = orig_df[col].value_counts()\n",
    "    if \"\" in value_counts:\n",
    "        print(\"\\tNumber of missing values:\", value_counts[\"\"])"
   ]
  },
  {
   "cell_type": "markdown",
   "metadata": {},
   "source": [
    "### Explore Attribute #2: Why People Want to Attend Gonzaga"
   ]
  },
  {
   "cell_type": "code",
   "execution_count": null,
   "metadata": {},
   "outputs": [],
   "source": [
    "import matplotlib.pyplot as plt\n",
    "from wordcloud import WordCloud\n",
    "\n",
    "text = \"\"\n",
    "plt.figure(figsize=(12, 7))\n",
    "for response in orig_df['(optional) Why were/are you interested in attending Gonzaga?']:\n",
    "    if response != \"\":\n",
    "        text += response + \" \"\n",
    "word_cloud = WordCloud(width=800, height=400, background_color=\"white\", colormap=\"seismic\").generate(text)\n",
    "plt.axis(\"off\")\n",
    "plt.imshow(word_cloud);"
   ]
  },
  {
   "cell_type": "markdown",
   "metadata": {},
   "source": [
    "### Explore Attribute #3: Current GU Students' Favorite Part of Attending GU"
   ]
  },
  {
   "cell_type": "code",
   "execution_count": null,
   "metadata": {},
   "outputs": [],
   "source": [
    "for i in range(27): # first 27 responses are from current GU students in my CPSC 322 course\n",
    "    response = orig_df.loc[i, '(optional, for current GU students) What is your favorite part of attending Gonzaga?']\n",
    "    if response != \"\":\n",
    "        print(\"Response #\" + str(i) +\":\", response)"
   ]
  },
  {
   "cell_type": "markdown",
   "metadata": {},
   "source": [
    "### Relationships between Attributes #4-7, and Attribute #8 (Cat 😸 or Dog 🐶 Person)?\n",
    "From [Wikipedia](https://en.wikipedia.org/wiki/Cat_people_and_dog_people):\n",
    "> The terms dog people and cat people refer to a person's domesticated pet animal preference. Through research completed at University institutions it was found that there were differences in character and behaviour between dog and cat people.\n",
    "\n",
    "Based on the research, I put four questions (attributes #4-7) in the Google Form that are supposedly \"predictive\" of whether someone is a \"Cat\" or \"Dog\" person. Let's take a look!"
   ]
  },
  {
   "cell_type": "code",
   "execution_count": null,
   "metadata": {},
   "outputs": [],
   "source": [
    "import seaborn as sns\n",
    "sns.set(style=\"white\", palette=\"Set1\")\n",
    "\n",
    "# get rid of attributes #0-3, they are not informative for predicting cat vs dog person\n",
    "df = orig_df.drop(['Timestamp',\n",
    "       '(optional) What is your first name (or a fun screen name)? ',\n",
    "       '(optional) Why were/are you interested in attending Gonzaga?',\n",
    "       '(optional, for current GU students) What is your favorite part of attending Gonzaga?'], axis=1)\n",
    "df.columns =[\"Introverted/Extroverted\", \"Rule-follower/Non-conformist\", \"Creative\", \"Energetic\", \"Cat-person/Dog-person\"]\n",
    "\n",
    "for col in df.columns[:-1]:\n",
    "    plt.figure()\n",
    "    sns.countplot(x=\"Cat-person/Dog-person\", hue=col, data=df)"
   ]
  },
  {
   "cell_type": "markdown",
   "metadata": {},
   "source": [
    "## 🤩 3) Machine Learning for Prediction 🤩\n",
    "Can we make Cat 😸 or Dog 🐶 Person predictions from your data?\n",
    "* In machine learning, classification involves learning relationships between attributes\n",
    "* The goal is to predict one of the attributes, called the \"class\" attribute for new data points\n",
    "    * What is the distribution of our class attribute, Cat 😸 or Dog 🐶 Person?"
   ]
  },
  {
   "cell_type": "code",
   "execution_count": null,
   "metadata": {},
   "outputs": [],
   "source": [
    "class_distribution = df[\"Cat-person/Dog-person\"].value_counts()\n",
    "plt.pie(class_distribution, labels=class_distribution.index, autopct=\"%1.1f%%\");"
   ]
  },
  {
   "cell_type": "markdown",
   "metadata": {},
   "source": [
    "**Question: Do we have \"equal\" class distribution?** "
   ]
  },
  {
   "cell_type": "markdown",
   "metadata": {},
   "source": [
    "### What Machine Learning Model are we going to use for Prediction?\n",
    "* The model we will build to predict cat vs dog person is called a [decision tree](https://en.wikipedia.org/wiki/Decision_tree_learning)\n",
    "* You've seen/used decision trees before!! Think flow charts!!\n",
    "* Example:\n",
    "\n",
    "<img src=\"https://i.pinimg.com/originals/55/cc/a7/55cca7c380856eb2300caf24fd95097c.jpg\" width=\"400\"/>\n",
    "\n",
    "(image source: https://www.pinterest.com/pin/313422455294362957/)\n",
    "\n",
    "**Question: how many \"classes\" are there in this \"decision tree\"?**"
   ]
  },
  {
   "cell_type": "markdown",
   "metadata": {},
   "source": [
    "### Build the Cat/Dog Person Decision Tree!!\n",
    "First, divide the data into \"train\" and \"test\" sets\n",
    "* Train data will be used to build the tree\n",
    "* Test data will be used to see how good the tree is (e.g. make predictions for new datapoints)\n",
    "* I'm going to hold-out 5 random responses for testing later\n",
    "\n",
    "Now, we can programmatically build the tree with the training data 😎"
   ]
  },
  {
   "cell_type": "code",
   "execution_count": null,
   "metadata": {},
   "outputs": [],
   "source": [
    "from sklearn.model_selection import train_test_split\n",
    "import mysklearn.myclassifiers\n",
    "import importlib\n",
    "importlib.reload(mysklearn.myclassifiers)\n",
    "from mysklearn.myclassifiers import MyDecisionTreeClassifier\n",
    "\n",
    "X = df.iloc[:, :-1]\n",
    "y = df.iloc[:, -1]\n",
    "\n",
    "X_train, X_test, y_train, y_test = train_test_split(X, y, test_size=5, stratify=y, random_state=0)\n",
    "myclf = MyDecisionTreeClassifier()\n",
    "myclf.fit(X_train.values.tolist(), y_train.values.tolist())\n",
    "myclf.visualize_tree(\"tree.dot\", \"tree.pdf\", attribute_names=df.columns)\n",
    "    \n",
    "from wand.image import Image as WImage\n",
    "img = WImage(filename='tree.pdf')\n",
    "img"
   ]
  },
  {
   "cell_type": "markdown",
   "metadata": {},
   "source": [
    "### Use the Tree to Make Predictions!!\n",
    "Let's try it... **Question: What is the class prediction for the following test respondent?**"
   ]
  },
  {
   "cell_type": "code",
   "execution_count": null,
   "metadata": {},
   "outputs": [],
   "source": [
    "print(\"Attribute order: Introverted/Extroverted, Rule-follower/Non-conformist, Creative?, Energetic?\")\n",
    "print(\"Test Response #0:\", orig_df.loc[X_test.index[0], '(optional) What is your first name (or a fun screen name)? '] + \"'s\", end=\"\")\n",
    "print(\" responses:\", X_test.iloc[0,].values, \"=> ??\")"
   ]
  },
  {
   "cell_type": "code",
   "execution_count": null,
   "metadata": {},
   "outputs": [],
   "source": [
    "y_predicted = myclf.predict(X_test.values.tolist())\n",
    "for i in range(len(X_test)):\n",
    "    print(\"Test Response #\" + str(i) + \":\", orig_df.loc[X_test.index[i], '(optional) What is your first name (or a fun screen name)? '] + \"'s\", end=\"\")\n",
    "    print(\" responses:\", X_test.iloc[i,].values, \"=> ??\")\n",
    "    print(\"\\tPredicted class =>\", y_predicted[i])\n",
    "    print(\"\\tActual class:\", y_test.iloc[i,])\n",
    "    print(\"\\t\\tPrediction correct? \", y_predicted[i] == y_test.iloc[i])"
   ]
  },
  {
   "cell_type": "markdown",
   "metadata": {},
   "source": [
    "**Question: What is the prediction accuracy of our decision tree classifier? Was it better than our baseline?**\n",
    "\n",
    "## 😍 Thank You!! 😍\n",
    "* Questions about anything and everything GU/CS related??\n",
    "\n",
    "![](https://www.gonzaga.edu/-/media/Website/Images/Body-Content/Alumni/alumni-go-zags-sign-2020-21.ashx?la=en&hash=900D2F39DBE4BC36F414A534E7DEB6A378B7FD27)"
   ]
  }
 ],
 "metadata": {
  "kernelspec": {
   "display_name": "Python 3",
   "language": "python",
   "name": "python3"
  },
  "language_info": {
   "codemirror_mode": {
    "name": "ipython",
    "version": 3
   },
   "file_extension": ".py",
   "mimetype": "text/x-python",
   "name": "python",
   "nbconvert_exporter": "python",
   "pygments_lexer": "ipython3",
   "version": "3.7.4"
  }
 },
 "nbformat": 4,
 "nbformat_minor": 4
}
